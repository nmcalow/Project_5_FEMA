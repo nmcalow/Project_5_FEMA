{
 "cells": [
  {
   "cell_type": "markdown",
   "metadata": {},
   "source": [
    "# At this point, I had my cleaning and transformations down pat"
   ]
  },
  {
   "cell_type": "code",
   "execution_count": 5,
   "metadata": {},
   "outputs": [],
   "source": [
    "import pandas as pd\n",
    "import numpy as np\n",
    "import seaborn as sns\n",
    "import matplotlib.pyplot as plt\n",
    "import statsmodels.api as sm\n",
    "from sklearn.model_selection import train_test_split, KFold, cross_val_score\n",
    "from sklearn.preprocessing import PolynomialFeatures,StandardScaler\n",
    "from sklearn.linear_model import LinearRegression, Ridge, RidgeCV, Lasso, LassoCV, ElasticNet, ElasticNetCV\n",
    "from sklearn.metrics import r2_score\n",
    "%matplotlib inline\n",
    "#Imports"
   ]
  },
  {
   "cell_type": "code",
   "execution_count": 6,
   "metadata": {},
   "outputs": [],
   "source": [
    "train = pd.read_csv('../datasets/train.csv')\n",
    "test = pd.read_csv('../datasets/test.csv')"
   ]
  },
  {
   "cell_type": "code",
   "execution_count": 7,
   "metadata": {},
   "outputs": [],
   "source": [
    "Exter_dict = {'Po': 0, 'Fa': 1, 'TA': 2, 'Gd': 3, 'Ex': 4}\n",
    "Lot_dict = {'IR3': 0, 'IR2': 1, 'IR1': 2, 'Reg': 3}\n",
    "Bsmt_dict = {'NA': 0, 'Po': 1, 'Fa': 2, 'TA': 3, 'Gd': 4, 'Ex': 5}\n",
    "Bsmt_ex_dict = {'NA': 0, 'No': 1, 'Mn': 2, 'Av': 3, 'Gd': 4}\n",
    "Func_dict = {'Sal': 0, 'Sev': 1, 'Maj2': 2, 'Maj1': 3, \n",
    "             'Mod': 4, 'Min2': 5, 'Min1': 6, 'Typ': 7}\n",
    "Fence_dict = {'NA': 0, 'MnWw': 1, 'GdWo': 2, 'MnPrv': 3, 'GdPrv': 4}\n",
    "\n",
    "train['Exter Qual'].replace(Exter_dict, inplace = True)\n",
    "test['Exter Qual'].replace(Exter_dict, inplace = True)\n",
    "\n",
    "train['Exter Cond'].replace(Exter_dict, inplace = True)\n",
    "test['Exter Cond'].replace(Exter_dict, inplace = True)\n",
    "\n",
    "train['Heating QC'].replace(Exter_dict, inplace = True)\n",
    "test['Heating QC'].replace(Exter_dict, inplace = True)\n",
    "\n",
    "train['Kitchen Qual'].replace(Exter_dict, inplace = True)\n",
    "test['Kitchen Qual'].replace(Exter_dict, inplace = True)\n",
    "\n",
    "train['Bsmt Qual'].replace(Bsmt_dict, inplace = True)\n",
    "test['Bsmt Qual'].replace(Bsmt_dict, inplace = True)\n",
    "\n",
    "train['Bsmt Cond'].replace(Bsmt_dict, inplace = True)\n",
    "test['Bsmt Cond'].replace(Bsmt_dict, inplace = True)\n",
    "\n",
    "train['Bsmt Exposure'].replace(Bsmt_ex_dict, inplace = True)\n",
    "test['Bsmt Exposure'].replace(Bsmt_ex_dict, inplace = True)\n",
    "\n",
    "train['Functional'].replace(Func_dict, inplace = True)\n",
    "test['Functional'].replace(Func_dict, inplace = True)\n",
    "\n",
    "train['Fireplace Qu'].replace(Bsmt_dict, inplace = True)\n",
    "test['Fireplace Qu'].replace(Bsmt_dict, inplace = True)\n",
    "\n",
    "train['Garage Qual'].replace(Bsmt_dict, inplace = True)\n",
    "test['Garage Qual'].replace(Bsmt_dict, inplace = True)\n",
    "\n",
    "train['Garage Cond'].replace(Bsmt_dict, inplace = True)\n",
    "test['Garage Cond'].replace(Bsmt_dict, inplace = True)\n",
    "\n",
    "train['Pool QC'].replace(Bsmt_dict, inplace = True)\n",
    "test['Pool QC'].replace(Bsmt_dict, inplace = True)\n",
    "\n",
    "train['Fence'].replace(Fence_dict, inplace = True)\n",
    "test['Fence'].replace(Fence_dict, inplace = True)\n",
    "\n",
    "train['Lot Shape'].replace(Lot_dict, inplace = True)\n",
    "test['Lot Shape'].replace(Lot_dict, inplace = True)\n",
    "\n",
    "\n"
   ]
  },
  {
   "cell_type": "code",
   "execution_count": 8,
   "metadata": {},
   "outputs": [],
   "source": [
    "#Some more dummy variables than normal for my Great Experiment\n",
    "dummy_vars = ['Exterior 1st','House Style', 'Central Air', 'Foundation', 'MS Zoning', 'Street', 'Alley', 'Neighborhood']"
   ]
  },
  {
   "cell_type": "code",
   "execution_count": 9,
   "metadata": {},
   "outputs": [],
   "source": [
    "train = pd.get_dummies(train, columns = dummy_vars)\n",
    "test = pd.get_dummies(test, columns = dummy_vars)"
   ]
  },
  {
   "cell_type": "markdown",
   "metadata": {},
   "source": [
    "# Feature Engineering\n"
   ]
  },
  {
   "cell_type": "code",
   "execution_count": 10,
   "metadata": {},
   "outputs": [],
   "source": [
    "train['Garage_Total'] = train['Garage Yr Blt'] * train['Garage Cars'] * train['Garage Area'] * train['Garage Qual'] * train['Garage Cond']\n",
    "test['Garage_Total'] = train['Garage Yr Blt'] * train['Garage Cars'] * train['Garage Area'] * train['Garage Qual'] * train['Garage Cond']"
   ]
  },
  {
   "cell_type": "code",
   "execution_count": 11,
   "metadata": {},
   "outputs": [],
   "source": [
    "train['Bsmt_Total'] = train['Bsmt Qual'] * train['Bsmt Cond'] * train['Bsmt Exposure'] * train['Total Bsmt SF']\n",
    "test['Bsmt_Total'] = train['Bsmt Qual'] * train['Bsmt Cond'] * train['Bsmt Exposure'] * train['Total Bsmt SF']\n"
   ]
  },
  {
   "cell_type": "code",
   "execution_count": 12,
   "metadata": {},
   "outputs": [],
   "source": [
    "train['TotRms_GrLiv'] = train['TotRms AbvGrd'] * train['Gr Liv Area']\n",
    "test['TotRms_GrLiv'] = test['TotRms AbvGrd'] * test['Gr Liv Area']"
   ]
  },
  {
   "cell_type": "code",
   "execution_count": 13,
   "metadata": {},
   "outputs": [],
   "source": [
    "train['id_yrsld'] = train['Id'] * train['Yr Sold']\n",
    "test['id_yrsld'] = test['Id'] * test['Yr Sold']"
   ]
  },
  {
   "cell_type": "code",
   "execution_count": 14,
   "metadata": {},
   "outputs": [],
   "source": [
    "train['Exter_Overall'] = train['Exter Qual'] * train['Overall Qual']\n",
    "test['Exter_Overall'] = test['Exter Qual'] * test['Overall Qual']"
   ]
  },
  {
   "cell_type": "code",
   "execution_count": null,
   "metadata": {},
   "outputs": [],
   "source": []
  },
  {
   "cell_type": "code",
   "execution_count": 15,
   "metadata": {},
   "outputs": [],
   "source": [
    "#Notice how I did it to test, not train\n",
    "features_init = [c for c in test._get_numeric_data().columns if not c in ['SalePrice']]"
   ]
  },
  {
   "cell_type": "code",
   "execution_count": 16,
   "metadata": {},
   "outputs": [],
   "source": [
    "#Had to remove all the NaNs for this experiment\n",
    "for n in features_init:\n",
    "    if n in train.columns:\n",
    "        train[n].fillna(0, inplace = True)\n",
    "    if n in test.columns:\n",
    "        test[n].fillna(0, inplace = True)\n"
   ]
  },
  {
   "cell_type": "code",
   "execution_count": 17,
   "metadata": {},
   "outputs": [],
   "source": [
    "features_init.remove(\"Exterior 1st_PreCast\")\n",
    "#Some of the dummy variables only appeared in test, not train, so I had to remove it to keep consistency"
   ]
  },
  {
   "cell_type": "code",
   "execution_count": 18,
   "metadata": {
    "scrolled": true
   },
   "outputs": [
    {
     "data": {
      "text/plain": [
       "0"
      ]
     },
     "execution_count": 18,
     "metadata": {},
     "output_type": "execute_result"
    }
   ],
   "source": [
    "train[features_init].isnull().sum().sum()"
   ]
  },
  {
   "cell_type": "code",
   "execution_count": 19,
   "metadata": {
    "scrolled": false
   },
   "outputs": [
    {
     "data": {
      "text/plain": [
       "0"
      ]
     },
     "execution_count": 19,
     "metadata": {},
     "output_type": "execute_result"
    }
   ],
   "source": [
    "test[features_init].isnull().sum().sum()"
   ]
  },
  {
   "cell_type": "code",
   "execution_count": 20,
   "metadata": {},
   "outputs": [],
   "source": [
    "\n",
    "def r2_adj(r2,X):\n",
    "    return 1 - ((1-r2)*(len(X)-1))/(len(X)-len(X.columns)-1)\n",
    "\n",
    "def print_metrics(model_pass, X_pass,y_pass ):\n",
    "    residual = model_pass.predict(X_pass) - y_pass\n",
    "    print(f\"Mean squared error: {(residual**2).mean()}\")\n",
    "    r2 = model_pass.score(X_pass, y_pass)\n",
    "    print(f\"R Squared value: {r2}\")\n",
    "    print(f\"Adjusted R Squared Value: {r2_adj(r2, X)}\")\n",
    "    print(f\"Root mean squared error: {np.sqrt((residual**2).mean())}\")\n",
    "    print(f'Residual sum of squares: {(residual**2).sum()}')\n",
    "    print(f\"Residual mean: {residual.mean()}\")"
   ]
  },
  {
   "cell_type": "code",
   "execution_count": 21,
   "metadata": {},
   "outputs": [],
   "source": [
    "def RT_MSE(model_pass, X_pass, y_pass):\n",
    "    return np.sqrt(((model_pass.predict(X_pass) - y_pass)**2).mean())"
   ]
  },
  {
   "cell_type": "code",
   "execution_count": 22,
   "metadata": {},
   "outputs": [
    {
     "data": {
      "text/plain": [
       "(2051, 148)"
      ]
     },
     "execution_count": 22,
     "metadata": {},
     "output_type": "execute_result"
    }
   ],
   "source": [
    "train.shape"
   ]
  },
  {
   "cell_type": "code",
   "execution_count": 23,
   "metadata": {},
   "outputs": [
    {
     "data": {
      "text/plain": [
       "(879, 142)"
      ]
     },
     "execution_count": 23,
     "metadata": {},
     "output_type": "execute_result"
    }
   ],
   "source": [
    "test.shape"
   ]
  },
  {
   "cell_type": "markdown",
   "metadata": {},
   "source": [
    "## THE IDEA: \n",
    "Put everything numeric into a list except for SalePrice. Then loop through, adding them one at a time to another list, and put them through their paces. Find the model and the list of features with the best combination of things, completely automatically. The metrics to use? I'll use a couple. R^2 is one, Root mean squared error is another"
   ]
  },
  {
   "cell_type": "code",
   "execution_count": 24,
   "metadata": {},
   "outputs": [],
   "source": [
    "features = []\n"
   ]
  },
  {
   "cell_type": "code",
   "execution_count": 25,
   "metadata": {},
   "outputs": [
    {
     "data": {
      "text/plain": [
       "119"
      ]
     },
     "execution_count": 25,
     "metadata": {},
     "output_type": "execute_result"
    }
   ],
   "source": [
    "len(features_init)"
   ]
  },
  {
   "cell_type": "code",
   "execution_count": null,
   "metadata": {},
   "outputs": [],
   "source": []
  },
  {
   "cell_type": "code",
   "execution_count": 26,
   "metadata": {
    "scrolled": true
   },
   "outputs": [],
   "source": [
    "#features_init.sample(4)"
   ]
  },
  {
   "cell_type": "code",
   "execution_count": 27,
   "metadata": {},
   "outputs": [],
   "source": [
    "features_init = pd.Series(features_init)"
   ]
  },
  {
   "cell_type": "code",
   "execution_count": 28,
   "metadata": {},
   "outputs": [
    {
     "data": {
      "text/plain": [
       "85    Street_Pave\n",
       "dtype: object"
      ]
     },
     "execution_count": 28,
     "metadata": {},
     "output_type": "execute_result"
    }
   ],
   "source": [
    "features_init.sample(1)\n"
   ]
  },
  {
   "cell_type": "code",
   "execution_count": 29,
   "metadata": {
    "scrolled": true
   },
   "outputs": [
    {
     "data": {
      "text/plain": [
       "(119,)"
      ]
     },
     "execution_count": 29,
     "metadata": {},
     "output_type": "execute_result"
    }
   ],
   "source": [
    "features_init.shape"
   ]
  },
  {
   "cell_type": "code",
   "execution_count": 30,
   "metadata": {},
   "outputs": [
    {
     "data": {
      "text/plain": [
       "(2051, 119)"
      ]
     },
     "execution_count": 30,
     "metadata": {},
     "output_type": "execute_result"
    }
   ],
   "source": [
    "train[features_init].shape"
   ]
  },
  {
   "cell_type": "code",
   "execution_count": 31,
   "metadata": {},
   "outputs": [
    {
     "data": {
      "text/plain": [
       "(879, 119)"
      ]
     },
     "execution_count": 31,
     "metadata": {},
     "output_type": "execute_result"
    }
   ],
   "source": [
    "test[features_init].shape"
   ]
  },
  {
   "cell_type": "markdown",
   "metadata": {},
   "source": [
    "I'll need to square the number of items n to get the total possible configurations"
   ]
  },
  {
   "cell_type": "code",
   "execution_count": null,
   "metadata": {},
   "outputs": [],
   "source": []
  },
  {
   "cell_type": "markdown",
   "metadata": {},
   "source": [
    "Pseudocode time!\n",
    "\n",
    "ideal_r2 = 0\n",
    "\n",
    "r2_features = []\n",
    "\n",
    "ideal_rmse = 99999999\n",
    "\n",
    "rmse_features = []\n",
    "\n",
    "loop n from 1 to length of features_init\n",
    "\n",
    "    counter = 0\n",
    "    \n",
    "    loop while counter < length of features * n\n",
    "        unique_features = []\n",
    "        sample features_init n times\n",
    "        do all my linear regression math here, using the ridge regularization method\n",
    "        calculate cross_val_score\n",
    "        calculate rmse\n",
    "        if r2 > ideal_r2\n",
    "            r2_features = features\n",
    "        if rmse < ideal_rmse\n",
    "            rmse_features = features\n",
    "        if set of features not in unique_features\n",
    "            add them to unique_features\n",
    "            counter++\n",
    "        \n",
    "        \n",
    "Ok let's get this in Python"
   ]
  },
  {
   "cell_type": "markdown",
   "metadata": {},
   "source": [
    "# WARNING: DO NOT RUN. It takes hours"
   ]
  },
  {
   "cell_type": "code",
   "execution_count": 32,
   "metadata": {
    "scrolled": false
   },
   "outputs": [],
   "source": [
    "# ideal_r2 = 0\n",
    "# r2_features = []\n",
    "# ideal_rmse = 99999999\n",
    "# rmse_features = []\n",
    "# y = train['SalePrice']\n",
    "# feature_length = len(features_init)#Every possible numeric feature\n",
    "# print('start')\n",
    "# for n in range(20, 50): # I didn't actually want to run it for 24 hours.\n",
    "#     counter = 1 #To be comprehensive, the range would be 1 to feature_length. Tuning.\n",
    "#     while counter <= (feature_length * n):\n",
    "#         unique_features = []\n",
    "#         features = features_init.sample(n) #Random sample of n features\n",
    "#         X = train[features]\n",
    "        \n",
    "#         X_train, X_test, y_train, y_test = train_test_split(X,y,random_state = 42)\n",
    "#         model_ridge = RidgeCV(cv = 5)\n",
    "#         ss = StandardScaler() #Split and fit\n",
    "#         ss.fit(X_train)\n",
    "#         X_train_sc = ss.transform(X_train)\n",
    "#         X_test_sc = ss.transform(X_test)\n",
    "#         model_ridge.fit(X_train_sc, y_train)\n",
    "        \n",
    "#         r2_temp = model_ridge.score(X_test_sc, y_test) #R2 value\n",
    "#         rmse_temp = RT_MSE(model_ridge, X_test_sc, y_test) #Root mean squared error\n",
    "        \n",
    "#         if r2_temp > ideal_r2: #Tested two different values for the minimum\n",
    "#             r2_features = features\n",
    "#             ideal_r2 = r2_temp\n",
    "#         if rmse_temp < ideal_rmse:\n",
    "#             rmse_features = features\n",
    "#             ideal_rmse = rmse_temp\n",
    "            \n",
    "#         if not features in unique_features: #Makes sure every combination is tried\n",
    "#             unique_features.append(features)\n",
    "#             counter += 1\n",
    "            \n",
    "#     print(n)   #Track progress      \n",
    "# print(ideal_r2)\n",
    "# print(ideal_rmse)"
   ]
  },
  {
   "cell_type": "code",
   "execution_count": null,
   "metadata": {},
   "outputs": [],
   "source": []
  },
  {
   "cell_type": "code",
   "execution_count": 33,
   "metadata": {},
   "outputs": [],
   "source": [
    "# I don't quite understand but hey that's machine learning for ya\n",
    "features_final = ['Kitchen Qual', 'Exter Qual', 'Bsmt_Total', 'Neighborhood_NWAmes',\n",
    "       'Foundation_Stone', 'Neighborhood_Blueste', 'Neighborhood_Mitchel',\n",
    "       'Fireplaces', 'Wood Deck SF', 'Garage Cond', 'Mas Vnr Area',\n",
    "       'House Style_1Story', 'Misc Val', '2nd Flr SF', 'Mo Sold',\n",
    "       '1st Flr SF', 'Bsmt Full Bath', 'Neighborhood_Greens',\n",
    "       'Exterior 1st_AsbShng', 'Neighborhood_IDOTRR',\n",
    "       'Exterior 1st_AsphShn', 'Exterior 1st_HdBoard', 'MS SubClass',\n",
    "       'Overall Cond', 'Garage_Total', 'Neighborhood_OldTown',\n",
    "       'MS Zoning_RM', 'House Style_2.5Unf', 'Functional',\n",
    "       'Foundation_Slab', 'Yr Sold', 'Neighborhood_SWISU', '3Ssn Porch',\n",
    "       'Year Built', 'Lot Area', 'Overall Qual', 'MS Zoning_RH',\n",
    "       'House Style_1.5Unf', 'Open Porch SF', 'Neighborhood_MeadowV',\n",
    "       'Lot Frontage', 'Exterior 1st_CemntBd', 'Bsmt Qual',\n",
    "       'Neighborhood_Gilbert', 'Exterior 1st_VinylSd']\n",
    "\n",
    "#Using Lasso with The Experiment. I only realized belatedly that LASSO would self-remove things, defeating the purpose"
   ]
  },
  {
   "cell_type": "code",
   "execution_count": null,
   "metadata": {},
   "outputs": [],
   "source": []
  },
  {
   "cell_type": "code",
   "execution_count": 34,
   "metadata": {},
   "outputs": [],
   "source": [
    "features_final2 = ['Foundation_BrkTil', 'Exter_Overall', 'House Style_2Story',\n",
    " 'Exterior 1st_BrkFace' ,'Bsmt Half Bath', 'Neighborhood_Sawyer',\n",
    " 'Neighborhood_BrDale', 'House Style_SFoyer', 'Neighborhood_BrkSide',\n",
    " 'Exterior 1st_AsbShng' ,'MS Zoning_RM', 'Bsmt Full Bath' ,'Kitchen Qual',\n",
    " 'Alley_Pave', 'Mas Vnr Area', 'MS Zoning_I (all)', 'BsmtFin SF 2', 'Lot Area',\n",
    " 'House Style_SLvl', 'Total Bsmt SF', 'Exterior 1st_CemntBd',\n",
    " 'Foundation_Slab' ,'Exter Qual', 'Exterior 1st_MetalSd', 'Overall Qual',\n",
    " 'Neighborhood_NridgHt', 'TotRms_GrLiv' ,'Alley_Grvl', 'Foundation_CBlock',\n",
    " 'Overall Cond', '3Ssn Porch', 'Neighborhood_Blmngtn', 'Neighborhood_Veenker',\n",
    " 'Foundation_PConc', 'Misc Val', 'Garage Area', 'Functional', 'MS Zoning_RL',\n",
    " 'Gr Liv Area', 'Bsmt Qual', 'MS SubClass', 'Open Porch SF',\n",
    " 'Neighborhood_Crawfor', 'Neighborhood_Gilbert', 'Neighborhood_StoneBr',\n",
    " 'Bsmt_Total']\n",
    "\n",
    "#Using Ridge with The Experiment instead. Better results, too...somehow"
   ]
  },
  {
   "cell_type": "code",
   "execution_count": 35,
   "metadata": {
    "scrolled": false
   },
   "outputs": [
    {
     "data": {
      "text/plain": [
       "['3Ssn Porch',\n",
       " 'Alley_Grvl',\n",
       " 'Alley_Pave',\n",
       " 'Bsmt Full Bath',\n",
       " 'Bsmt Half Bath',\n",
       " 'Bsmt Qual',\n",
       " 'BsmtFin SF 2',\n",
       " 'Bsmt_Total',\n",
       " 'Exter Qual',\n",
       " 'Exter_Overall',\n",
       " 'Exterior 1st_AsbShng',\n",
       " 'Exterior 1st_BrkFace',\n",
       " 'Exterior 1st_CemntBd',\n",
       " 'Exterior 1st_MetalSd',\n",
       " 'Foundation_BrkTil',\n",
       " 'Foundation_CBlock',\n",
       " 'Foundation_PConc',\n",
       " 'Foundation_Slab',\n",
       " 'Functional',\n",
       " 'Garage Area',\n",
       " 'Gr Liv Area',\n",
       " 'House Style_2Story',\n",
       " 'House Style_SFoyer',\n",
       " 'House Style_SLvl',\n",
       " 'Kitchen Qual',\n",
       " 'Lot Area',\n",
       " 'MS SubClass',\n",
       " 'MS Zoning_I (all)',\n",
       " 'MS Zoning_RL',\n",
       " 'MS Zoning_RM',\n",
       " 'Mas Vnr Area',\n",
       " 'Misc Val',\n",
       " 'Neighborhood_Blmngtn',\n",
       " 'Neighborhood_BrDale',\n",
       " 'Neighborhood_BrkSide',\n",
       " 'Neighborhood_Crawfor',\n",
       " 'Neighborhood_Gilbert',\n",
       " 'Neighborhood_NridgHt',\n",
       " 'Neighborhood_Sawyer',\n",
       " 'Neighborhood_StoneBr',\n",
       " 'Neighborhood_Veenker',\n",
       " 'Open Porch SF',\n",
       " 'Overall Cond',\n",
       " 'Overall Qual',\n",
       " 'TotRms_GrLiv',\n",
       " 'Total Bsmt SF']"
      ]
     },
     "execution_count": 35,
     "metadata": {},
     "output_type": "execute_result"
    }
   ],
   "source": [
    "features_final2.sort()\n",
    "features_final2"
   ]
  },
  {
   "cell_type": "code",
   "execution_count": null,
   "metadata": {},
   "outputs": [],
   "source": []
  },
  {
   "cell_type": "code",
   "execution_count": null,
   "metadata": {},
   "outputs": [],
   "source": []
  },
  {
   "cell_type": "code",
   "execution_count": 37,
   "metadata": {},
   "outputs": [
    {
     "data": {
      "text/plain": [
       "0      2025\n",
       "153       3\n",
       "168       3\n",
       "144       2\n",
       "176       1\n",
       "86        1\n",
       "96        1\n",
       "120       1\n",
       "140       1\n",
       "150       1\n",
       "162       1\n",
       "407       1\n",
       "323       1\n",
       "182       1\n",
       "216       1\n",
       "224       1\n",
       "290       1\n",
       "304       1\n",
       "508       1\n",
       "245       1\n",
       "255       1\n",
       "180       1\n",
       "Name: 3Ssn Porch, dtype: int64"
      ]
     },
     "execution_count": 37,
     "metadata": {},
     "output_type": "execute_result"
    }
   ],
   "source": [
    "train['3Ssn Porch'].value_counts()"
   ]
  },
  {
   "cell_type": "code",
   "execution_count": 38,
   "metadata": {
    "scrolled": false
   },
   "outputs": [
    {
     "name": "stderr",
     "output_type": "stream",
     "text": [
      "C:\\Users\\NICK\\Anaconda3\\envs\\dsi\\lib\\site-packages\\ipykernel_launcher.py:2: SettingWithCopyWarning: \n",
      "A value is trying to be set on a copy of a slice from a DataFrame.\n",
      "Try using .loc[row_indexer,col_indexer] = value instead\n",
      "\n",
      "See the caveats in the documentation: http://pandas.pydata.org/pandas-docs/stable/indexing.html#indexing-view-versus-copy\n",
      "  \n"
     ]
    },
    {
     "data": {
      "text/plain": [
       "<matplotlib.axes._subplots.AxesSubplot at 0x1103bb1e860>"
      ]
     },
     "execution_count": 38,
     "metadata": {},
     "output_type": "execute_result"
    },
    {
     "data": {
      "image/png": "[encoded data removed]",
      "text/plain": [
       "<Figure size 432x2160 with 2 Axes>"
      ]
     },
     "metadata": {
      "needs_background": "light"
     },
     "output_type": "display_data"
    }
   ],
   "source": [
    "thing = train[features_final2]\n",
    "thing['SalePrice'] = train['SalePrice']\n",
    "plt.figure(figsize = (6,30))\n",
    "sns.heatmap(thing.corr()[['SalePrice']].sort_values('SalePrice'), vmin = -1, annot = True, cmap = 'coolwarm')\n",
    "#It had every combination of variables possible, and it chose this. Huh."
   ]
  },
  {
   "cell_type": "code",
   "execution_count": 39,
   "metadata": {
    "scrolled": true
   },
   "outputs": [
    {
     "name": "stderr",
     "output_type": "stream",
     "text": [
      "C:\\Users\\NICK\\Anaconda3\\envs\\dsi\\lib\\site-packages\\ipykernel_launcher.py:2: SettingWithCopyWarning: \n",
      "A value is trying to be set on a copy of a slice from a DataFrame.\n",
      "Try using .loc[row_indexer,col_indexer] = value instead\n",
      "\n",
      "See the caveats in the documentation: http://pandas.pydata.org/pandas-docs/stable/indexing.html#indexing-view-versus-copy\n",
      "  \n"
     ]
    },
    {
     "data": {
      "text/plain": [
       "<matplotlib.axes._subplots.AxesSubplot at 0x1103bf91390>"
      ]
     },
     "execution_count": 39,
     "metadata": {},
     "output_type": "execute_result"
    },
    {
     "data": {
      "image/png": "[encoded data removed]",
      "text/plain": [
       "<Figure size 432x2160 with 2 Axes>"
      ]
     },
     "metadata": {
      "needs_background": "light"
     },
     "output_type": "display_data"
    }
   ],
   "source": [
    "thing = train[features_final]\n",
    "thing['SalePrice'] = train['SalePrice']\n",
    "plt.figure(figsize = (6,30))\n",
    "sns.heatmap(thing.corr()[['SalePrice']].sort_values('SalePrice'), vmin = -1, annot = True, cmap = 'coolwarm')\n",
    "#It had every combination of variables possible, and it chose this. Huh."
   ]
  },
  {
   "cell_type": "code",
   "execution_count": 40,
   "metadata": {
    "scrolled": false
   },
   "outputs": [
    {
     "data": {
      "text/plain": [
       "(2051, 46)"
      ]
     },
     "execution_count": 40,
     "metadata": {},
     "output_type": "execute_result"
    }
   ],
   "source": [
    "train[features_final2].shape"
   ]
  },
  {
   "cell_type": "code",
   "execution_count": 41,
   "metadata": {},
   "outputs": [
    {
     "data": {
      "text/plain": [
       "(879, 46)"
      ]
     },
     "execution_count": 41,
     "metadata": {},
     "output_type": "execute_result"
    }
   ],
   "source": [
    "test[features_final2].shape"
   ]
  },
  {
   "cell_type": "code",
   "execution_count": 42,
   "metadata": {},
   "outputs": [
    {
     "data": {
      "text/plain": [
       "46"
      ]
     },
     "execution_count": 42,
     "metadata": {},
     "output_type": "execute_result"
    }
   ],
   "source": [
    "len(features_final2)"
   ]
  },
  {
   "cell_type": "markdown",
   "metadata": {},
   "source": [
    "# Got my features. Time to model"
   ]
  },
  {
   "cell_type": "code",
   "execution_count": 43,
   "metadata": {},
   "outputs": [],
   "source": [
    "X = train[features_final2]\n",
    "y = train['SalePrice']\n",
    "X_train, X_test, y_train, y_test = train_test_split(X,y,random_state = 42)\n",
    "y_train_log = np.log(y_train)\n",
    "y_test_log = np.log(y_test)\n",
    "ss = StandardScaler()\n",
    "ss.fit(X_train)\n",
    "X_train_sc = ss.transform(X_train)\n",
    "X_test_sc = ss.transform(X_test)\n",
    "model_ridge = RidgeCV() #Ridge actually seemed to give me a better score. Go figure\n",
    "model_lr = LinearRegression()\n"
   ]
  },
  {
   "cell_type": "code",
   "execution_count": 44,
   "metadata": {},
   "outputs": [
    {
     "data": {
      "text/plain": [
       "LinearRegression(copy_X=True, fit_intercept=True, n_jobs=None, normalize=False)"
      ]
     },
     "execution_count": 44,
     "metadata": {},
     "output_type": "execute_result"
    }
   ],
   "source": [
    "model_ridge.fit(X_train_sc, y_train_log)\n",
    "model_lr.fit(X_train, y_train_log)"
   ]
  },
  {
   "cell_type": "code",
   "execution_count": 45,
   "metadata": {},
   "outputs": [
    {
     "data": {
      "text/plain": [
       "0.8740043731008624"
      ]
     },
     "execution_count": 45,
     "metadata": {},
     "output_type": "execute_result"
    }
   ],
   "source": [
    "model_lr.score(X_train, y_train_log)"
   ]
  },
  {
   "cell_type": "code",
   "execution_count": 46,
   "metadata": {},
   "outputs": [
    {
     "data": {
      "text/plain": [
       "0.8678408074950876"
      ]
     },
     "execution_count": 46,
     "metadata": {},
     "output_type": "execute_result"
    }
   ],
   "source": [
    "model_lr.score(X_test, y_test_log)"
   ]
  },
  {
   "cell_type": "code",
   "execution_count": 47,
   "metadata": {},
   "outputs": [
    {
     "data": {
      "text/plain": [
       "0.8406424180093325"
      ]
     },
     "execution_count": 47,
     "metadata": {},
     "output_type": "execute_result"
    }
   ],
   "source": [
    "cross_val_score(model_lr, X_train, y_train_log, cv = 5).mean()"
   ]
  },
  {
   "cell_type": "code",
   "execution_count": 48,
   "metadata": {},
   "outputs": [
    {
     "data": {
      "text/plain": [
       "0.8740042131699212"
      ]
     },
     "execution_count": 48,
     "metadata": {},
     "output_type": "execute_result"
    }
   ],
   "source": [
    "model_ridge.score(X_train_sc, y_train_log)"
   ]
  },
  {
   "cell_type": "code",
   "execution_count": 49,
   "metadata": {},
   "outputs": [
    {
     "data": {
      "text/plain": [
       "0.8678526807456377"
      ]
     },
     "execution_count": 49,
     "metadata": {},
     "output_type": "execute_result"
    }
   ],
   "source": [
    "model_ridge.score(X_test_sc, y_test_log)"
   ]
  },
  {
   "cell_type": "code",
   "execution_count": 50,
   "metadata": {
    "scrolled": true
   },
   "outputs": [
    {
     "data": {
      "text/plain": [
       "0.8406775696709916"
      ]
     },
     "execution_count": 50,
     "metadata": {},
     "output_type": "execute_result"
    }
   ],
   "source": [
    "cross_val_score(model_ridge, X_train_sc, y_train_log, cv = 5).mean()"
   ]
  },
  {
   "cell_type": "markdown",
   "metadata": {},
   "source": [
    "# The scores between the Ridge and the basic LinearRegression were very similar, so I don't know how much correction Ridge is even doing "
   ]
  },
  {
   "cell_type": "code",
   "execution_count": 51,
   "metadata": {},
   "outputs": [],
   "source": [
    "y_pred = model_lr.predict(X_test)"
   ]
  },
  {
   "cell_type": "code",
   "execution_count": 52,
   "metadata": {},
   "outputs": [
    {
     "data": {
      "text/plain": [
       "(513, 46)"
      ]
     },
     "execution_count": 52,
     "metadata": {},
     "output_type": "execute_result"
    }
   ],
   "source": [
    "X_test.shape"
   ]
  },
  {
   "cell_type": "code",
   "execution_count": 53,
   "metadata": {},
   "outputs": [],
   "source": [
    "residual_lr = y_test - y_pred"
   ]
  },
  {
   "cell_type": "code",
   "execution_count": 54,
   "metadata": {},
   "outputs": [
    {
     "data": {
      "text/plain": [
       "198776.12971480875"
      ]
     },
     "execution_count": 54,
     "metadata": {},
     "output_type": "execute_result"
    }
   ],
   "source": [
    "np.sqrt((residual_lr**2).mean())"
   ]
  },
  {
   "cell_type": "code",
   "execution_count": 55,
   "metadata": {},
   "outputs": [],
   "source": [
    "y_pred_log = np.exp(model_ridge.predict(X_test_sc))"
   ]
  },
  {
   "cell_type": "code",
   "execution_count": 56,
   "metadata": {},
   "outputs": [],
   "source": [
    "residual_log = y_test - y_pred_log"
   ]
  },
  {
   "cell_type": "code",
   "execution_count": 57,
   "metadata": {},
   "outputs": [
    {
     "data": {
      "text/plain": [
       "24292.63990012225"
      ]
     },
     "execution_count": 57,
     "metadata": {},
     "output_type": "execute_result"
    }
   ],
   "source": [
    "np.sqrt((residual_log**2).mean())"
   ]
  },
  {
   "cell_type": "code",
   "execution_count": 58,
   "metadata": {},
   "outputs": [
    {
     "data": {
      "text/plain": [
       "<matplotlib.axes._subplots.AxesSubplot at 0x1103c0fedd8>"
      ]
     },
     "execution_count": 58,
     "metadata": {},
     "output_type": "execute_result"
    },
    {
     "data": {
      "image/png": "[encoded data removed]",
      "text/plain": [
       "<Figure size 432x288 with 1 Axes>"
      ]
     },
     "metadata": {
      "needs_background": "light"
     },
     "output_type": "display_data"
    }
   ],
   "source": [
    "sns.scatterplot(y_pred_log, residual_log)"
   ]
  },
  {
   "cell_type": "code",
   "execution_count": 59,
   "metadata": {
    "scrolled": true
   },
   "outputs": [
    {
     "data": {
      "text/plain": [
       "0.9038876259889057"
      ]
     },
     "execution_count": 59,
     "metadata": {},
     "output_type": "execute_result"
    }
   ],
   "source": [
    "r2_score(y_test, y_pred_log)\n",
    "#Not a bad score! Any more than that and I'd be exceptionally worried about overfitting"
   ]
  },
  {
   "cell_type": "code",
   "execution_count": 60,
   "metadata": {},
   "outputs": [],
   "source": [
    "X_test_real = test[features_final2]"
   ]
  },
  {
   "cell_type": "code",
   "execution_count": 61,
   "metadata": {},
   "outputs": [
    {
     "data": {
      "text/plain": [
       "(879, 46)"
      ]
     },
     "execution_count": 61,
     "metadata": {},
     "output_type": "execute_result"
    }
   ],
   "source": [
    "X_test_real.shape"
   ]
  },
  {
   "cell_type": "code",
   "execution_count": 62,
   "metadata": {},
   "outputs": [],
   "source": [
    "Z_ss_test_test = pd.DataFrame(ss.fit_transform(X_test_real))"
   ]
  },
  {
   "cell_type": "code",
   "execution_count": null,
   "metadata": {},
   "outputs": [],
   "source": [
    "y_pred_final = np.exp(model_ridge.predict(Z_ss_test_test))"
   ]
  },
  {
   "cell_type": "code",
   "execution_count": null,
   "metadata": {},
   "outputs": [],
   "source": [
    "y_pred_final.shape"
   ]
  },
  {
   "cell_type": "code",
   "execution_count": null,
   "metadata": {},
   "outputs": [],
   "source": [
    "test['SalePrice'] = y_pred_final"
   ]
  },
  {
   "cell_type": "code",
   "execution_count": null,
   "metadata": {},
   "outputs": [],
   "source": [
    "submission = test[['Id', 'SalePrice']]"
   ]
  },
  {
   "cell_type": "code",
   "execution_count": null,
   "metadata": {},
   "outputs": [],
   "source": [
    "submission.to_csv(\"Submission5.csv\", index = False)"
   ]
  },
  {
   "cell_type": "code",
   "execution_count": null,
   "metadata": {},
   "outputs": [],
   "source": []
  }
 ],
 "metadata": {
  "kernelspec": {
   "display_name": "Python [conda env:dsi]",
   "language": "python",
   "name": "conda-env-dsi-py"
  },
  "language_info": {
   "codemirror_mode": {
    "name": "ipython",
    "version": 3
   },
   "file_extension": ".py",
   "mimetype": "text/x-python",
   "name": "python",
   "nbconvert_exporter": "python",
   "pygments_lexer": "ipython3",
   "version": "3.7.3"
  }
 },
 "nbformat": 4,
 "nbformat_minor": 2
}
